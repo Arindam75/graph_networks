{
  "nbformat": 4,
  "nbformat_minor": 0,
  "metadata": {
    "colab": {
      "provenance": [],
      "authorship_tag": "ABX9TyMi0kuT3jiElJbyrUBt2sf4",
      "include_colab_link": true
    },
    "kernelspec": {
      "name": "python3",
      "display_name": "Python 3"
    },
    "language_info": {
      "name": "python"
    }
  },
  "cells": [
    {
      "cell_type": "markdown",
      "metadata": {
        "id": "view-in-github",
        "colab_type": "text"
      },
      "source": [
        "<a href=\"https://colab.research.google.com/github/Arindam75/graph_networks/blob/main/04_node_classification_cora_gcn.ipynb\" target=\"_parent\"><img src=\"https://colab.research.google.com/assets/colab-badge.svg\" alt=\"Open In Colab\"/></a>"
      ]
    },
    {
      "cell_type": "markdown",
      "source": [
        "[Practice Code](https://github.com/PacktPublishing/Hands-On-Graph-Neural-Networks-Using-Python/blob/main)\n",
        "\n",
        "Github page for the textbook Hands on GNNs Using Python by Maxime Labonne"
      ],
      "metadata": {
        "id": "K2Pm6I6rBO9s"
      }
    },
    {
      "cell_type": "code",
      "source": [
        "!pip install torch_geometric"
      ],
      "metadata": {
        "colab": {
          "base_uri": "https://localhost:8080/"
        },
        "id": "CcPMhDDCBRCW",
        "outputId": "4be8c080-0b48-4524-9050-6fd875d41fb5"
      },
      "execution_count": null,
      "outputs": [
        {
          "output_type": "stream",
          "name": "stdout",
          "text": [
            "Collecting torch_geometric\n",
            "  Downloading torch_geometric-2.5.3-py3-none-any.whl (1.1 MB)\n",
            "\u001b[2K     \u001b[90m━━━━━━━━━━━━━━━━━━━━━━━━━━━━━━━━━━━━━━━━\u001b[0m \u001b[32m1.1/1.1 MB\u001b[0m \u001b[31m7.6 MB/s\u001b[0m eta \u001b[36m0:00:00\u001b[0m\n",
            "\u001b[?25hRequirement already satisfied: tqdm in /usr/local/lib/python3.10/dist-packages (from torch_geometric) (4.66.4)\n",
            "Requirement already satisfied: numpy in /usr/local/lib/python3.10/dist-packages (from torch_geometric) (1.25.2)\n",
            "Requirement already satisfied: scipy in /usr/local/lib/python3.10/dist-packages (from torch_geometric) (1.11.4)\n",
            "Requirement already satisfied: fsspec in /usr/local/lib/python3.10/dist-packages (from torch_geometric) (2023.6.0)\n",
            "Requirement already satisfied: jinja2 in /usr/local/lib/python3.10/dist-packages (from torch_geometric) (3.1.4)\n",
            "Requirement already satisfied: aiohttp in /usr/local/lib/python3.10/dist-packages (from torch_geometric) (3.9.5)\n",
            "Requirement already satisfied: requests in /usr/local/lib/python3.10/dist-packages (from torch_geometric) (2.31.0)\n",
            "Requirement already satisfied: pyparsing in /usr/local/lib/python3.10/dist-packages (from torch_geometric) (3.1.2)\n",
            "Requirement already satisfied: scikit-learn in /usr/local/lib/python3.10/dist-packages (from torch_geometric) (1.2.2)\n",
            "Requirement already satisfied: psutil>=5.8.0 in /usr/local/lib/python3.10/dist-packages (from torch_geometric) (5.9.5)\n",
            "Requirement already satisfied: aiosignal>=1.1.2 in /usr/local/lib/python3.10/dist-packages (from aiohttp->torch_geometric) (1.3.1)\n",
            "Requirement already satisfied: attrs>=17.3.0 in /usr/local/lib/python3.10/dist-packages (from aiohttp->torch_geometric) (23.2.0)\n",
            "Requirement already satisfied: frozenlist>=1.1.1 in /usr/local/lib/python3.10/dist-packages (from aiohttp->torch_geometric) (1.4.1)\n",
            "Requirement already satisfied: multidict<7.0,>=4.5 in /usr/local/lib/python3.10/dist-packages (from aiohttp->torch_geometric) (6.0.5)\n",
            "Requirement already satisfied: yarl<2.0,>=1.0 in /usr/local/lib/python3.10/dist-packages (from aiohttp->torch_geometric) (1.9.4)\n",
            "Requirement already satisfied: async-timeout<5.0,>=4.0 in /usr/local/lib/python3.10/dist-packages (from aiohttp->torch_geometric) (4.0.3)\n",
            "Requirement already satisfied: MarkupSafe>=2.0 in /usr/local/lib/python3.10/dist-packages (from jinja2->torch_geometric) (2.1.5)\n",
            "Requirement already satisfied: charset-normalizer<4,>=2 in /usr/local/lib/python3.10/dist-packages (from requests->torch_geometric) (3.3.2)\n",
            "Requirement already satisfied: idna<4,>=2.5 in /usr/local/lib/python3.10/dist-packages (from requests->torch_geometric) (3.7)\n",
            "Requirement already satisfied: urllib3<3,>=1.21.1 in /usr/local/lib/python3.10/dist-packages (from requests->torch_geometric) (2.0.7)\n",
            "Requirement already satisfied: certifi>=2017.4.17 in /usr/local/lib/python3.10/dist-packages (from requests->torch_geometric) (2024.6.2)\n",
            "Requirement already satisfied: joblib>=1.1.1 in /usr/local/lib/python3.10/dist-packages (from scikit-learn->torch_geometric) (1.4.2)\n",
            "Requirement already satisfied: threadpoolctl>=2.0.0 in /usr/local/lib/python3.10/dist-packages (from scikit-learn->torch_geometric) (3.5.0)\n",
            "Installing collected packages: torch_geometric\n",
            "Successfully installed torch_geometric-2.5.3\n"
          ]
        }
      ]
    },
    {
      "cell_type": "code",
      "execution_count": null,
      "metadata": {
        "id": "WKu6YXtlAxyy"
      },
      "outputs": [],
      "source": [
        "from torch_geometric.datasets import Planetoid\n",
        "from torch_geometric.utils import degree\n",
        "from collections import Counter\n",
        "import numpy as np\n",
        "import pandas as pd\n",
        "\n",
        "import matplotlib.pyplot as plt"
      ]
    },
    {
      "cell_type": "markdown",
      "source": [
        "## Load Data\n",
        "Basic information about the data"
      ],
      "metadata": {
        "id": "5T1QHj6EDABf"
      }
    },
    {
      "cell_type": "code",
      "source": [
        "dataset = Planetoid(root=\".\", name=\"Cora\")\n",
        "data = dataset[0]"
      ],
      "metadata": {
        "id": "qXmjdBdqBNMt",
        "colab": {
          "base_uri": "https://localhost:8080/"
        },
        "outputId": "ca9bae08-1651-4e76-a81d-2a5570b170ca"
      },
      "execution_count": null,
      "outputs": [
        {
          "output_type": "stream",
          "name": "stderr",
          "text": [
            "Downloading https://github.com/kimiyoung/planetoid/raw/master/data/ind.cora.x\n",
            "Downloading https://github.com/kimiyoung/planetoid/raw/master/data/ind.cora.tx\n",
            "Downloading https://github.com/kimiyoung/planetoid/raw/master/data/ind.cora.allx\n",
            "Downloading https://github.com/kimiyoung/planetoid/raw/master/data/ind.cora.y\n",
            "Downloading https://github.com/kimiyoung/planetoid/raw/master/data/ind.cora.ty\n",
            "Downloading https://github.com/kimiyoung/planetoid/raw/master/data/ind.cora.ally\n",
            "Downloading https://github.com/kimiyoung/planetoid/raw/master/data/ind.cora.graph\n",
            "Downloading https://github.com/kimiyoung/planetoid/raw/master/data/ind.cora.test.index\n",
            "Processing...\n",
            "Done!\n"
          ]
        }
      ]
    },
    {
      "cell_type": "markdown",
      "source": [
        "The degrees array contains the degree of each node."
      ],
      "metadata": {
        "id": "B-fFzmGHPWtH"
      }
    },
    {
      "cell_type": "code",
      "source": [
        "degrees =degree(data.edge_index[0]).cpu().numpy()\n",
        "degrees.shape"
      ],
      "metadata": {
        "colab": {
          "base_uri": "https://localhost:8080/"
        },
        "id": "g-BA0UFyPJu4",
        "outputId": "5ad7ceb1-0559-4733-fa52-37472a087574"
      },
      "execution_count": null,
      "outputs": [
        {
          "output_type": "execute_result",
          "data": {
            "text/plain": [
              "(2708,)"
            ]
          },
          "metadata": {},
          "execution_count": 6
        }
      ]
    },
    {
      "cell_type": "code",
      "source": [
        "deg_counts = Counter(degrees)\n",
        "fig, ax = plt.subplots()\n",
        "ax.bar(deg_counts.keys(), deg_counts.values())\n",
        "ax.set_xlabel('Node degree')\n",
        "ax.set_ylabel('Number of nodes')\n",
        "ax.set_title(\"Degree distribution\")"
      ],
      "metadata": {
        "colab": {
          "base_uri": "https://localhost:8080/",
          "height": 489
        },
        "id": "xVQ4sfsZPjuM",
        "outputId": "9580573f-964c-423a-8f7b-a432f637fc66"
      },
      "execution_count": null,
      "outputs": [
        {
          "output_type": "execute_result",
          "data": {
            "text/plain": [
              "Text(0.5, 1.0, 'Degree distribution')"
            ]
          },
          "metadata": {},
          "execution_count": 12
        },
        {
          "output_type": "display_data",
          "data": {
            "text/plain": [
              "<Figure size 640x480 with 1 Axes>"
            ],
            "image/png": "[encoded data removed]"
          },
          "metadata": {}
        }
      ]
    },
    {
      "cell_type": "code",
      "source": [
        "print(f'dataset {dataset}: {data.num_nodes} nodes, {data.num_edges} edges')\n",
        "print(f'node feature shape: {data.x.shape}')\n",
        "print(f'Number of features {data.num_node_features}')\n",
        "print(f'Number of classes {data.y.max().item() + 1}')\n",
        "print(f'class labels: {data.y.unique()}')"
      ],
      "metadata": {
        "colab": {
          "base_uri": "https://localhost:8080/"
        },
        "id": "oLqBaYRBBiRV",
        "outputId": "cc2f7ea8-a1f1-41c1-82c3-c06312011198"
      },
      "execution_count": null,
      "outputs": [
        {
          "output_type": "stream",
          "name": "stdout",
          "text": [
            "dataset Cora(): 2708 nodes, 10556 edges\n",
            "node feature shape: torch.Size([2708, 1433])\n",
            "Number of features 1433\n",
            "Number of classes 7\n",
            "class labels: tensor([0, 1, 2, 3, 4, 5, 6])\n"
          ]
        }
      ]
    },
    {
      "cell_type": "code",
      "source": [
        "print(f'Graph:')\n",
        "print('------')\n",
        "print(f'Edges are directed: {data.is_directed()}')\n",
        "print(f'Graph has isolated nodes: {data.has_isolated_nodes()}')\n",
        "print(f'Graph has loops: {data.has_self_loops()}')"
      ],
      "metadata": {
        "colab": {
          "base_uri": "https://localhost:8080/"
        },
        "id": "CPpsZ-73CoGc",
        "outputId": "f316d9c8-edb5-41cc-f81d-ed143f4db0a5"
      },
      "execution_count": null,
      "outputs": [
        {
          "output_type": "stream",
          "name": "stdout",
          "text": [
            "Graph:\n",
            "------\n",
            "Edges are directed: False\n",
            "Graph has isolated nodes: False\n",
            "Graph has loops: False\n"
          ]
        }
      ]
    },
    {
      "cell_type": "markdown",
      "source": [
        "## GCN Layer"
      ],
      "metadata": {
        "id": "UxQWBbczDqL6"
      }
    },
    {
      "cell_type": "code",
      "source": [
        "import torch\n",
        "from torch_geometric.nn import GCNConv\n",
        "import torch.nn.functional as F"
      ],
      "metadata": {
        "id": "XGt9fbDZDHyg"
      },
      "execution_count": null,
      "outputs": []
    },
    {
      "cell_type": "code",
      "source": [
        "def accuracy(y_pred, y_true):\n",
        "\n",
        "    return torch.sum(y_pred == y_true) / len(y_true)\n",
        "\n",
        "class GCN(torch.nn.Module):\n",
        "\n",
        "  def __init__(self, dim_in, dim_h, dim_out):\n",
        "    super().__init__()\n",
        "    torch.manual_seed(12345)\n",
        "\n",
        "    self.conv1 = GCNConv(dim_in, dim_h)\n",
        "    self.conv2 = GCNConv(dim_h, dim_out)\n",
        "\n",
        "  def forward(self, x, edge_index):\n",
        "\n",
        "    h = self.conv1(x, edge_index)\n",
        "    h = torch.relu(h)\n",
        "    h = self.conv2(h, edge_index)\n",
        "    return F.log_softmax(h, dim =1)\n",
        "\n",
        "  def fit(self, data, epochs):\n",
        "\n",
        "    criterion = torch.nn.CrossEntropyLoss()\n",
        "    optimizer = torch.optim.Adam(self.parameters(),\n",
        "                                 lr=0.01,\n",
        "                                 weight_decay=5e-4)\n",
        "    self.train()\n",
        "    for epoch in range(epochs):\n",
        "      optimizer.zero_grad()\n",
        "      out = self.forward(data.x, data.edge_index)\n",
        "      loss = criterion(out[data.train_mask], data.y[data.train_mask])\n",
        "      acc = accuracy(out[data.train_mask].argmax(dim=1), data.y[data.train_mask])\n",
        "      loss.backward()\n",
        "      optimizer.step()\n",
        "\n",
        "      if epoch%20 == 0:\n",
        "        val_loss = criterion(out[data.val_mask], data.y[data.val_mask])\n",
        "        val_acc = accuracy(out[data.val_mask].argmax(dim=1), data.y[data.val_mask])\n",
        "\n",
        "        print(f'Epoch {epoch:>3} | Train Loss: {loss:.3f} | Train Acc:'\n",
        "                      f' {acc*100:>5.2f}% | Val Loss: {val_loss:.2f} | '\n",
        "                      f'Val Acc: {val_acc*100:.2f}%')\n",
        "\n",
        "  @torch.no_grad()\n",
        "  def test(self, data):\n",
        "    self.eval()\n",
        "    out = self.forward(data.x, data.edge_index)\n",
        "    acc = accuracy(out.argmax(dim=1)[data.test_mask], data.y[data.test_mask])\n",
        "    return acc"
      ],
      "metadata": {
        "id": "hev5hCkVD-iN"
      },
      "execution_count": null,
      "outputs": []
    },
    {
      "cell_type": "code",
      "source": [
        "model = GCN(data.num_node_features, 128, dataset.num_classes)\n",
        "print(model)\n"
      ],
      "metadata": {
        "colab": {
          "base_uri": "https://localhost:8080/"
        },
        "id": "4i-vMqwvEXKx",
        "outputId": "97a256c8-a32a-47f8-c476-ab8903ccb2f7"
      },
      "execution_count": null,
      "outputs": [
        {
          "output_type": "stream",
          "name": "stdout",
          "text": [
            "GCN(\n",
            "  (conv1): GCNConv(1433, 128)\n",
            "  (conv2): GCNConv(128, 7)\n",
            ")\n"
          ]
        }
      ]
    },
    {
      "cell_type": "code",
      "source": [
        "model.fit(data, epochs=100)"
      ],
      "metadata": {
        "colab": {
          "base_uri": "https://localhost:8080/"
        },
        "id": "qhejN94fT6Z3",
        "outputId": "4f4efbc2-bc46-4f87-e5e9-af9b089cb2bc"
      },
      "execution_count": null,
      "outputs": [
        {
          "output_type": "stream",
          "name": "stdout",
          "text": [
            "Epoch   0 | Train Loss: 1.956 | Train Acc: 10.71% | Val Loss: 1.96 | Val Acc: 11.80%\n",
            "Epoch  20 | Train Loss: 0.002 | Train Acc: 100.00% | Val Loss: 0.88 | Val Acc: 77.60%\n",
            "Epoch  40 | Train Loss: 0.007 | Train Acc: 100.00% | Val Loss: 0.76 | Val Acc: 79.00%\n",
            "Epoch  60 | Train Loss: 0.010 | Train Acc: 100.00% | Val Loss: 0.73 | Val Acc: 77.80%\n",
            "Epoch  80 | Train Loss: 0.009 | Train Acc: 100.00% | Val Loss: 0.73 | Val Acc: 77.20%\n"
          ]
        }
      ]
    },
    {
      "cell_type": "code",
      "source": [
        "acc = model.test(data)\n",
        "print(f'GCN test accuracy: {acc*100:.2f}%')"
      ],
      "metadata": {
        "id": "l0DdwStSKWmZ",
        "colab": {
          "base_uri": "https://localhost:8080/"
        },
        "outputId": "4b0c6547-94ec-4305-ce1e-9e0a6549488a"
      },
      "execution_count": null,
      "outputs": [
        {
          "output_type": "stream",
          "name": "stdout",
          "text": [
            "GCN test accuracy: 80.80%\n"
          ]
        }
      ]
    }
  ]
}