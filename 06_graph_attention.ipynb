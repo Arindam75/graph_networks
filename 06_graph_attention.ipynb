{
  "nbformat": 4,
  "nbformat_minor": 0,
  "metadata": {
    "colab": {
      "provenance": [],
      "authorship_tag": "ABX9TyPL6I4vdX9Uose3uzUcx1K7",
      "include_colab_link": true
    },
    "kernelspec": {
      "name": "python3",
      "display_name": "Python 3"
    },
    "language_info": {
      "name": "python"
    }
  },
  "cells": [
    {
      "cell_type": "markdown",
      "metadata": {
        "id": "view-in-github",
        "colab_type": "text"
      },
      "source": [
        "<a href=\"https://colab.research.google.com/github/Arindam75/graph_networks/blob/main/06_graph_attention.ipynb\" target=\"_parent\"><img src=\"https://colab.research.google.com/assets/colab-badge.svg\" alt=\"Open In Colab\"/></a>"
      ]
    },
    {
      "cell_type": "code",
      "source": [
        "!pip install torch_geometric"
      ],
      "metadata": {
        "colab": {
          "base_uri": "https://localhost:8080/"
        },
        "id": "uM6XqBOluDD9",
        "outputId": "c217a066-9263-4452-973f-250eb3bb42d1"
      },
      "execution_count": 37,
      "outputs": [
        {
          "output_type": "stream",
          "name": "stdout",
          "text": [
            "Requirement already satisfied: torch_geometric in /usr/local/lib/python3.10/dist-packages (2.5.3)\n",
            "Requirement already satisfied: tqdm in /usr/local/lib/python3.10/dist-packages (from torch_geometric) (4.66.4)\n",
            "Requirement already satisfied: numpy in /usr/local/lib/python3.10/dist-packages (from torch_geometric) (1.25.2)\n",
            "Requirement already satisfied: scipy in /usr/local/lib/python3.10/dist-packages (from torch_geometric) (1.11.4)\n",
            "Requirement already satisfied: fsspec in /usr/local/lib/python3.10/dist-packages (from torch_geometric) (2023.6.0)\n",
            "Requirement already satisfied: jinja2 in /usr/local/lib/python3.10/dist-packages (from torch_geometric) (3.1.4)\n",
            "Requirement already satisfied: aiohttp in /usr/local/lib/python3.10/dist-packages (from torch_geometric) (3.9.5)\n",
            "Requirement already satisfied: requests in /usr/local/lib/python3.10/dist-packages (from torch_geometric) (2.31.0)\n",
            "Requirement already satisfied: pyparsing in /usr/local/lib/python3.10/dist-packages (from torch_geometric) (3.1.2)\n",
            "Requirement already satisfied: scikit-learn in /usr/local/lib/python3.10/dist-packages (from torch_geometric) (1.2.2)\n",
            "Requirement already satisfied: psutil>=5.8.0 in /usr/local/lib/python3.10/dist-packages (from torch_geometric) (5.9.5)\n",
            "Requirement already satisfied: aiosignal>=1.1.2 in /usr/local/lib/python3.10/dist-packages (from aiohttp->torch_geometric) (1.3.1)\n",
            "Requirement already satisfied: attrs>=17.3.0 in /usr/local/lib/python3.10/dist-packages (from aiohttp->torch_geometric) (23.2.0)\n",
            "Requirement already satisfied: frozenlist>=1.1.1 in /usr/local/lib/python3.10/dist-packages (from aiohttp->torch_geometric) (1.4.1)\n",
            "Requirement already satisfied: multidict<7.0,>=4.5 in /usr/local/lib/python3.10/dist-packages (from aiohttp->torch_geometric) (6.0.5)\n",
            "Requirement already satisfied: yarl<2.0,>=1.0 in /usr/local/lib/python3.10/dist-packages (from aiohttp->torch_geometric) (1.9.4)\n",
            "Requirement already satisfied: async-timeout<5.0,>=4.0 in /usr/local/lib/python3.10/dist-packages (from aiohttp->torch_geometric) (4.0.3)\n",
            "Requirement already satisfied: MarkupSafe>=2.0 in /usr/local/lib/python3.10/dist-packages (from jinja2->torch_geometric) (2.1.5)\n",
            "Requirement already satisfied: charset-normalizer<4,>=2 in /usr/local/lib/python3.10/dist-packages (from requests->torch_geometric) (3.3.2)\n",
            "Requirement already satisfied: idna<4,>=2.5 in /usr/local/lib/python3.10/dist-packages (from requests->torch_geometric) (3.7)\n",
            "Requirement already satisfied: urllib3<3,>=1.21.1 in /usr/local/lib/python3.10/dist-packages (from requests->torch_geometric) (2.0.7)\n",
            "Requirement already satisfied: certifi>=2017.4.17 in /usr/local/lib/python3.10/dist-packages (from requests->torch_geometric) (2024.6.2)\n",
            "Requirement already satisfied: joblib>=1.1.1 in /usr/local/lib/python3.10/dist-packages (from scikit-learn->torch_geometric) (1.4.2)\n",
            "Requirement already satisfied: threadpoolctl>=2.0.0 in /usr/local/lib/python3.10/dist-packages (from scikit-learn->torch_geometric) (3.5.0)\n"
          ]
        }
      ]
    },
    {
      "cell_type": "markdown",
      "source": [
        "## Load Data"
      ],
      "metadata": {
        "id": "0LrzhSLmf8-e"
      }
    },
    {
      "cell_type": "code",
      "execution_count": 38,
      "metadata": {
        "id": "y8xmhA75Qhfl"
      },
      "outputs": [],
      "source": [
        "from torch_geometric.datasets import Planetoid\n",
        "import torch\n",
        "import torch.nn.functional as F\n",
        "from torch_geometric.nn import GATv2Conv\n",
        "from torch.nn import Linear, Dropout\n",
        "\n",
        "# Import dataset from PyTorch Geometric\n",
        "dataset = Planetoid(root=\".\", name=\"Cora\")\n",
        "data = dataset[0]"
      ]
    },
    {
      "cell_type": "markdown",
      "source": [
        "## Building the GAN"
      ],
      "metadata": {
        "id": "-Z27_mrIf-4B"
      }
    },
    {
      "cell_type": "code",
      "source": [
        "def accuracy(y_pred, y_true):\n",
        "  return torch.sum(y_pred == y_true) / len(y_true)\n",
        "\n",
        "class GAT(torch.nn.Module):\n",
        "  def __init__(self, dim_in, dim_h, dim_out, heads=8):\n",
        "    super().__init__()\n",
        "\n",
        "    self.gat1 = GATv2Conv(dim_in, dim_h, heads=heads)\n",
        "    self.gat2 = GATv2Conv(dim_h*heads, dim_out,heads=1)\n",
        "\n",
        "  def forward(self, x, edge_index):\n",
        "    h = F.dropout(x, p=0.6, training=self.training)\n",
        "    h = self.gat1(h, edge_index)\n",
        "    h = F.elu(h)\n",
        "    h = F.dropout(h, p=0.6, training=self.training)\n",
        "    h = self.gat2(h, edge_index)\n",
        "    return F.log_softmax(h, dim=1)\n",
        "\n",
        "class GAT(torch.nn.Module):\n",
        "  def __init__(self, dim_in, dim_h, dim_out, heads=8):\n",
        "      super().__init__()\n",
        "      self.gat1 = GATv2Conv(dim_in, dim_h, heads=heads)\n",
        "      self.gat2 = GATv2Conv(dim_h*heads, dim_out, heads=1)\n",
        "\n",
        "  def forward(self, x, edge_index):\n",
        "      h = F.dropout(x, p=0.6, training=self.training)\n",
        "      h = self.gat1(h, edge_index)\n",
        "      h = F.elu(h)\n",
        "      h = F.dropout(h, p=0.6, training=self.training)\n",
        "      h = self.gat2(h, edge_index)\n",
        "      return F.log_softmax(h, dim=1)\n",
        "\n",
        "  def fit(self, data , epochs):\n",
        "\n",
        "    criterion = torch.nn.CrossEntropyLoss()\n",
        "    optimizer = torch.optim.Adam(self.parameters(), lr=0.01, weight_decay=0.01)\n",
        "\n",
        "    self.train()\n",
        "    for epoch in range(epochs):\n",
        "      optimizer.zero_grad()\n",
        "      out = self(data.x, data.edge_index)\n",
        "\n",
        "      loss = criterion(out[data.train_mask], data.y[data.train_mask])\n",
        "      acc = accuracy(out[data.train_mask].argmax(dim=1), data.y[data.train_mask])\n",
        "      loss.backward()\n",
        "      optimizer.step()\n",
        "\n",
        "      if epoch%20==0:\n",
        "        val_loss = criterion(out[data.val_mask], data.y[data.val_mask])\n",
        "        val_acc = accuracy(out[data.val_mask].argmax(dim=1), data.y[data.val_mask])\n",
        "        print(f'Epoch {epoch:>3} | Train Loss: {loss:.3f} | Train Acc: {acc*100:>5.2f}% | Val Loss: {val_loss:.2f} | Val Acc: {val_acc*100:.2f}%')\n",
        "\n",
        "  @torch.no_grad()\n",
        "  def test(self, data):\n",
        "    self.eval()\n",
        "    out = self(data.x, data.edge_index)\n",
        "    acc = accuracy(out.argmax(dim=1)[data.test_mask], data.y[data.test_mask])\n",
        "    return acc"
      ],
      "metadata": {
        "id": "w_x9nIOAukOQ"
      },
      "execution_count": 39,
      "outputs": []
    },
    {
      "cell_type": "code",
      "source": [
        "gat = GAT(dataset.num_features, 32, dataset.num_classes)\n",
        "print(gat)"
      ],
      "metadata": {
        "colab": {
          "base_uri": "https://localhost:8080/"
        },
        "id": "7xsKcaylza-9",
        "outputId": "00ffa4e8-49bb-4395-a80e-2d1c933ddba0"
      },
      "execution_count": 40,
      "outputs": [
        {
          "output_type": "stream",
          "name": "stdout",
          "text": [
            "GAT(\n",
            "  (gat1): GATv2Conv(1433, 32, heads=8)\n",
            "  (gat2): GATv2Conv(256, 7, heads=1)\n",
            ")\n"
          ]
        }
      ]
    },
    {
      "cell_type": "code",
      "source": [
        "# Train\n",
        "gat.fit(data, epochs=100)\n"
      ],
      "metadata": {
        "colab": {
          "base_uri": "https://localhost:8080/"
        },
        "id": "8BRwYhrZzcN_",
        "outputId": "cdbb6251-0906-4188-c0f0-79edfb5c4216"
      },
      "execution_count": 41,
      "outputs": [
        {
          "output_type": "stream",
          "name": "stdout",
          "text": [
            "Epoch   0 | Train Loss: 1.968 | Train Acc: 15.71% | Val Loss: 1.96 | Val Acc: 16.00%\n",
            "Epoch  20 | Train Loss: 0.187 | Train Acc: 97.86% | Val Loss: 1.01 | Val Acc: 69.00%\n",
            "Epoch  40 | Train Loss: 0.175 | Train Acc: 99.29% | Val Loss: 0.90 | Val Acc: 73.60%\n",
            "Epoch  60 | Train Loss: 0.160 | Train Acc: 98.57% | Val Loss: 0.87 | Val Acc: 75.00%\n",
            "Epoch  80 | Train Loss: 0.170 | Train Acc: 99.29% | Val Loss: 0.91 | Val Acc: 73.40%\n"
          ]
        }
      ]
    },
    {
      "cell_type": "code",
      "source": [
        "acc = gat.test(data)\n",
        "print(f'GAT test accuracy: {acc*100:.2f}%')"
      ],
      "metadata": {
        "colab": {
          "base_uri": "https://localhost:8080/"
        },
        "id": "PVz_VxP_0Ch-",
        "outputId": "7f6f2631-b3f8-4cc0-9b37-9032eb79ea1a"
      },
      "execution_count": 42,
      "outputs": [
        {
          "output_type": "stream",
          "name": "stdout",
          "text": [
            "GAT test accuracy: 80.30%\n"
          ]
        }
      ]
    },
    {
      "cell_type": "markdown",
      "source": [
        "## Tesing GAN on CiteSeer Dataset"
      ],
      "metadata": {
        "id": "IFrudmuXf7KI"
      }
    },
    {
      "cell_type": "code",
      "source": [
        "dataset = Planetoid(root=\".\", name=\"CiteSeer\")\n",
        "data = dataset[0]"
      ],
      "metadata": {
        "id": "wbPlyQWpf6eQ"
      },
      "execution_count": 43,
      "outputs": []
    },
    {
      "cell_type": "markdown",
      "source": [
        "Some basic analysis of the dataset"
      ],
      "metadata": {
        "id": "Ic4FI0AOhii2"
      }
    },
    {
      "cell_type": "code",
      "source": [
        "import matplotlib.pyplot as plt\n",
        "from torch_geometric.utils import degree\n",
        "from collections import Counter\n",
        "import numpy as np"
      ],
      "metadata": {
        "id": "E15uKkL4FZv9"
      },
      "execution_count": 44,
      "outputs": []
    },
    {
      "cell_type": "code",
      "source": [
        "degrees = degree(dataset[0].edge_index[0]).numpy()\n",
        "numbers = Counter(degrees)\n",
        "\n",
        "fig, ax = plt.subplots(1,1,figsize=(8,4))\n",
        "ax.set_xlabel('degree')\n",
        "ax.set_ylabel('#nodes')\n",
        "ax.bar(numbers.keys(), numbers.values())"
      ],
      "metadata": {
        "colab": {
          "base_uri": "https://localhost:8080/",
          "height": 414
        },
        "id": "ug7OtNlQgQHs",
        "outputId": "3ff6e185-814f-4d39-9a83-3a64df7eab0d"
      },
      "execution_count": 45,
      "outputs": [
        {
          "output_type": "execute_result",
          "data": {
            "text/plain": [
              "<BarContainer object of 32 artists>"
            ]
          },
          "metadata": {},
          "execution_count": 45
        },
        {
          "output_type": "display_data",
          "data": {
            "text/plain": [
              "<Figure size 800x400 with 1 Axes>"
            ],
            "image/png": "[encoded data removed]"
          },
          "metadata": {}
        }
      ]
    },
    {
      "cell_type": "markdown",
      "source": [
        "We have an obvious problem , there are some nodes which have 0 degree. Meaning they aren't connected to any node."
      ],
      "metadata": {
        "id": "Vha6vuLwpbtT"
      }
    },
    {
      "cell_type": "code",
      "source": [
        "gat = GAT(dataset.num_features, 16, dataset.num_classes)\n",
        "gat.fit(data, epochs=100)"
      ],
      "metadata": {
        "colab": {
          "base_uri": "https://localhost:8080/"
        },
        "id": "kT6NUrwaoycg",
        "outputId": "d27ebf63-d6e7-4cf0-d140-391d3ce04e5a"
      },
      "execution_count": 46,
      "outputs": [
        {
          "output_type": "stream",
          "name": "stdout",
          "text": [
            "Epoch   0 | Train Loss: 1.798 | Train Acc: 18.33% | Val Loss: 1.82 | Val Acc: 12.20%\n",
            "Epoch  20 | Train Loss: 0.185 | Train Acc: 97.50% | Val Loss: 1.20 | Val Acc: 57.00%\n",
            "Epoch  40 | Train Loss: 0.123 | Train Acc: 99.17% | Val Loss: 1.13 | Val Acc: 63.40%\n",
            "Epoch  60 | Train Loss: 0.087 | Train Acc: 100.00% | Val Loss: 1.29 | Val Acc: 57.60%\n",
            "Epoch  80 | Train Loss: 0.105 | Train Acc: 100.00% | Val Loss: 1.19 | Val Acc: 58.80%\n"
          ]
        }
      ]
    },
    {
      "cell_type": "code",
      "source": [
        "acc = gat.test(data)\n",
        "print(f'GAT test accuracy: {acc*100:.2f}%')"
      ],
      "metadata": {
        "colab": {
          "base_uri": "https://localhost:8080/"
        },
        "id": "0nMAPy0Dp3KW",
        "outputId": "fb8ba446-ccae-4f99-e33d-f3a8ca90d392"
      },
      "execution_count": 47,
      "outputs": [
        {
          "output_type": "stream",
          "name": "stdout",
          "text": [
            "GAT test accuracy: 69.00%\n"
          ]
        }
      ]
    },
    {
      "cell_type": "markdown",
      "source": [
        "To see the effect of degree on accuracy , we make a list of node-degree vs accuracy."
      ],
      "metadata": {
        "id": "RIylGwCqOzsv"
      }
    },
    {
      "cell_type": "code",
      "source": [
        "y_pred = gat(data.x, data.edge_index)\n",
        "degrees = degree(data.edge_index[0]).numpy()\n",
        "\n",
        "accuracies = []\n",
        "sizes = []\n",
        "\n",
        "#degrees from 1 to 5\n",
        "for i in range(6):\n",
        "  mask = np.where(degrees == i)[0]\n",
        "  accuracies.append(accuracy(y_pred.argmax(dim=1)[mask],data.y[mask]))\n",
        "  sizes.append(len(mask))\n",
        "\n",
        "#degrees greater than 5\n",
        "mask = np.where(degrees > 5)[0]\n",
        "accuracies.append(accuracy(y_pred.argmax(dim=1)[mask],\n",
        "data.y[mask]))\n",
        "sizes.append(len(mask))"
      ],
      "metadata": {
        "id": "H0JluhW4qV46"
      },
      "execution_count": 52,
      "outputs": []
    },
    {
      "cell_type": "code",
      "source": [
        "fig, ax = plt.subplots(1,1,figsize=(8,4))\n",
        "ax.set_xlabel('Node degree')\n",
        "ax.set_ylabel('Accuracy score')\n",
        "plt.bar(['0','1','2','3','4','5','6+'], accuracies)\n",
        "for i in range(0, 7):\n",
        "  plt.text(i, accuracies[i],\n",
        "          f'{accuracies[i]*100:.2f}%',\n",
        "          ha='center', color='black')\n",
        "for i in range(0, 7):\n",
        "  plt.text(i, accuracies[i]//2,\n",
        "           sizes[i],\n",
        "           ha='center',\n",
        "           color='white')"
      ],
      "metadata": {
        "colab": {
          "base_uri": "https://localhost:8080/",
          "height": 396
        },
        "id": "1e7KEKHnvf0V",
        "outputId": "96c18d0c-0aff-492b-eec9-35074f9289a0"
      },
      "execution_count": 54,
      "outputs": [
        {
          "output_type": "display_data",
          "data": {
            "text/plain": [
              "<Figure size 800x400 with 1 Axes>"
            ],
            "image/png": "[encoded data removed]"
          },
          "metadata": {}
        }
      ]
    },
    {
      "cell_type": "markdown",
      "source": [
        "This shows us that , the accuracy and the node degree are significantly correlated. Nodes with few neighbors are harder to classify correctly.\n",
        "Furthermore, it even shows that, in general, the higher the node degree, the better the accuracy score. This is quite natural because a higher number of neighbors will provide more information to the GNN to make its predictions. ( from textbook \"Graph Neural Networks Usng Python - Maxime Labonne\" )"
      ],
      "metadata": {
        "id": "3lgc4NkXPU9J"
      }
    },
    {
      "cell_type": "code",
      "source": [],
      "metadata": {
        "id": "lOTs2A_dPjMb"
      },
      "execution_count": null,
      "outputs": []
    }
  ]
}